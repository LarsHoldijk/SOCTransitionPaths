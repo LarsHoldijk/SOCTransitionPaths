{
 "cells": [
  {
   "cell_type": "code",
   "execution_count": null,
   "metadata": {},
   "outputs": [
    {
     "ename": "",
     "evalue": "",
     "output_type": "error",
     "traceback": [
      "\u001B[1;31mRunning cells with 'Python 3.8.10 64-bit' requires ipykernel package.\n",
      "Run the following command to install 'ipykernel' into the Python environment. \n",
      "Command: '/bin/python3 -m pip install ipykernel -U --user --force-reinstall'"
     ]
    }
   ],
   "source": [
    "import numpy as np\n",
    "import torch\n",
    "\n",
    "from Dynamics.ChignolinDynamics import ChignolinDynamics\n",
    "from plotting.Loggers import CostsLogger\n",
    "from policies.Chignolin import NNPolicy\n",
    "from solvers.PICE import PICE"
   ]
  },
  {
   "cell_type": "markdown",
   "metadata": {},
   "source": [
    "# Setup parameters"
   ]
  },
  {
   "cell_type": "code",
   "execution_count": null,
   "metadata": {},
   "outputs": [],
   "source": [
    "# seed\n",
    "torch.manual_seed(42)\n",
    "\n",
    "# File setup\n",
    "file = \"./results/Chignolin\"\n",
    "\n",
    "force = False  # if false -> use energy\n",
    "\n",
    "device = 'cuda'\n",
    "\n",
    "T = 5000.\n",
    "dt = torch.tensor(1.)\n",
    "n_steps = int(T / dt)\n",
    "\n",
    "n_rollouts = 10000\n",
    "n_samples = 16\n",
    "\n",
    "lr = 0.0001"
   ]
  },
  {
   "cell_type": "markdown",
   "metadata": {},
   "source": [
    "# Setup experiment environment and model"
   ]
  },
  {
   "cell_type": "code",
   "execution_count": 160,
   "metadata": {},
   "outputs": [],
   "source": [
    "\n",
    "environment = ChignolinDynamics(loss_func='pairwise_dist', n_samples=n_samples, device=device, save_file=file)\n",
    "\n",
    "dims = environment.dims\n",
    "\n",
    "std = torch.tensor(.05).to(device)\n",
    "R = torch.eye(dims).to(device)\n",
    "\n",
    "logger = CostsLogger(f'{file}')\n",
    "\n",
    "nn_policy = NNPolicy(device, dims=dims, force=force, T=T)"
   ]
  },
  {
   "cell_type": "markdown",
   "metadata": {},
   "source": [
    "# Training"
   ]
  },
  {
   "cell_type": "code",
   "execution_count": null,
   "metadata": {
    "pycharm": {
     "name": "#%%\n"
    }
   },
   "outputs": [],
   "source": [
    "PICE(environment, nn_policy, n_rollouts, n_samples, n_steps, dt, std, dims * 2, R, logger, force, [], True, file,\n",
    "     device=device, lr=lr)\n",
    "\n",
    "torch.save(nn_policy, f'{file}/final_policy')"
   ]
  }
 ],
 "metadata": {
  "interpreter": {
   "hash": "916dbcbb3f70747c44a77c7bcd40155683ae19c65e1c03b4aa3499c5328201f1"
  },
  "kernelspec": {
   "display_name": "Python 3.8.10 64-bit",
   "language": "python",
   "name": "python3"
  },
  "language_info": {
   "codemirror_mode": {
    "name": "ipython",
    "version": 3
   },
   "file_extension": ".py",
   "mimetype": "text/x-python",
   "name": "python",
   "nbconvert_exporter": "python",
   "pygments_lexer": "ipython3",
   "version": "3.8.10"
  },
  "orig_nbformat": 4
 },
 "nbformat": 4,
 "nbformat_minor": 2
}

{
 "cells": [
  {
   "cell_type": "code",
   "execution_count": 159,
   "metadata": {},
   "outputs": [],
   "source": [
    "import os\n",
    "import time\n",
    "\n",
    "import einops as einops\n",
    "import numpy as np\n",
    "import torch\n",
    "import torch.nn as nn\n",
    "\n",
    "from Dynamics.PolytrimerDynamics import PolyDynamics\n",
    "from plotting.Loggers import CostsLogger\n",
    "from solvers.PICE import PICE\n",
    "from policies.Poly import NNPolicy"
   ]
  },
  {
   "cell_type": "markdown",
   "metadata": {},
   "source": [
    "# Setup parameters"
   ]
  },
  {
   "cell_type": "code",
   "execution_count": null,
   "metadata": {},
   "outputs": [],
   "source": [
    "# seed\n",
    "torch.manual_seed(42)\n",
    "\n",
    "# File setup\n",
    "file = \"./results/Polyproline\"\n",
    "\n",
    "force = False # if false -> use energy\n",
    "\n",
    "device = 'cuda'\n",
    "\n",
    "T = 5000.\n",
    "dt = torch.tensor(1.)\n",
    "n_steps = int(T / dt)\n",
    "\n",
    "n_rollouts = 10000\n",
    "n_samples = 16\n",
    "\n",
    "lr = 0.0001"
   ]
  },
  {
   "cell_type": "markdown",
   "metadata": {},
   "source": [
    "# Setup experiment environment and model"
   ]
  },
  {
   "cell_type": "code",
   "execution_count": 160,
   "metadata": {},
   "outputs": [],
   "source": [
    "\n",
    "environment = PolyDynamics(loss_func='pairwise_dist', n_samples=n_samples, device=device, save_file=file)\n",
    "\n",
    "dims = environment.dims\n",
    "\n",
    "std = torch.tensor(.05).to(device)\n",
    "R = torch.eye(dims).to(device)\n",
    "\n",
    "logger = CostsLogger(f'{file}')\n",
    "\n",
    "nn_policy = NNPolicy(device, dims = dims, force=force, T=T)"
   ]
  },
  {
   "cell_type": "markdown",
   "metadata": {},
   "source": [
    "# Training"
   ]
  },
  {
   "cell_type": "code",
   "execution_count": null,
   "metadata": {},
   "outputs": [],
   "source": [
    "PICE(environment, nn_policy, n_rollouts, n_samples, n_steps, dt, std, dims * 2, R, logger, force, [], True, file, device=device, lr=lr)\n",
    "\n",
    "torch.save(nn_policy, f'{file}/final_policy')"
   ]
  },
  {
   "cell_type": "markdown",
   "metadata": {},
   "source": [
    "# Visualization"
   ]
  },
  {
   "cell_type": "code",
   "execution_count": null,
   "metadata": {},
   "outputs": [],
   "source": [
    "import mdtraj as md\n",
    "\n",
    "# save trajectory to pdbs\n",
    "name = 'force'\n",
    "new_traj = np.load(f'{file}/phi_paths.npy')\n",
    "new_traj = new_traj[:, :, :int(new_traj.shape[2]/2)]\n",
    "\n",
    "STEP=25 # draw every STEP steps\n",
    "N=16 # num of trajectories\n",
    "\n",
    "for i in range(N):\n",
    "    trajs = None\n",
    "    for j in range(0, int(new_traj.shape[1]), STEP):\n",
    "        traj = md.load_pdb('./potentials/files/3mer_pp1.pdb')\n",
    "        atoms = []\n",
    "        for index_atom in range(0, 138):\n",
    "            atom_location = new_traj[i, j, index_atom*3:index_atom*3+3]\n",
    "            atoms.append(atom_location)\n",
    "        atoms = np.array(atoms)\n",
    "        traj.xyz = np.array(atoms)\n",
    "        if j == 0:\n",
    "            trajs = traj\n",
    "        else:\n",
    "            trajs = trajs.join(traj)\n",
    "    trajs.save(f'./save_pdbs/save_{i}.pdb')"
   ]
  }
 ],
 "metadata": {
  "interpreter": {
   "hash": "32d86c0ed489c74fa5ec2aa2ccbeedf511e8629c2444e4a2b1035ca2fdc39594"
  },
  "kernelspec": {
   "display_name": "Python 3.7.12 ('yuanqi')",
   "language": "python",
   "name": "python3"
  },
  "language_info": {
   "codemirror_mode": {
    "name": "ipython",
    "version": 3
   },
   "file_extension": ".py",
   "mimetype": "text/x-python",
   "name": "python",
   "nbconvert_exporter": "python",
   "pygments_lexer": "ipython3",
   "version": "3.7.12"
  },
  "orig_nbformat": 4
 },
 "nbformat": 4,
 "nbformat_minor": 2
}
